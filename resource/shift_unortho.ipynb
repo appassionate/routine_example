{
 "cells": [
  {
   "cell_type": "markdown",
   "metadata": {},
   "source": []
  },
  {
   "cell_type": "code",
   "execution_count": null,
   "metadata": {},
   "outputs": [],
   "source": [
    "# We build a  box model for finding the inner pattern"
   ]
  },
  {
   "cell_type": "code",
   "execution_count": null,
   "metadata": {},
   "outputs": [],
   "source": [
    "from ase.build import molecule\n",
    "from ase import Atom,Atoms\n",
    "\n",
    "model = Atoms(\"O\", positions=[[0,0,0]])\n",
    "atom_1 = Atoms(\"S\", positions=[[5,0,0]])\n",
    "atom_2 = Atoms(\"C\", positions=[[0,5,0]])\n",
    "atom_3 = Atoms(\"C\", positions=[[5,5,0]])\n",
    "atom_4 = Atoms(\"C\", positions=[[5,0,5]])\n",
    "atom_5 = Atoms(\"C\", positions=[[0,5,5]])\n",
    "atom_6 = Atoms(\"C\", positions=[[0,0,5]])\n",
    "\n",
    "img = Atoms(\"F\", positions=[[-3,0,0]])\n",
    "\n",
    "model.extend(atom_1+atom_2+atom_3+atom_4+atom_5+atom_6+img)\n",
    "\n",
    "\n",
    "atom_N = Atoms(\"N\", positions=[[5,5,5]])\n",
    "\n",
    "model.extend(atom_N)\n",
    "model.pbc = True\n",
    "model.cell = [5,5,5]\n",
    "\n",
    "box_a =np.array([\n",
    "                [5,0,0],\n",
    "                [0,5,0],\n",
    "                [0,0,5]\n",
    "                ])\n",
    "\n",
    "box_b = np.array(\n",
    "                [[5,0,0],\n",
    "                 [-3,5,0],\n",
    "                 [0,0,5]])\n"
   ]
  },
  {
   "cell_type": "markdown",
   "metadata": {},
   "source": [
    "A naive function is aimed to solve such a shifted box."
   ]
  },
  {
   "cell_type": "code",
   "execution_count": null,
   "metadata": {},
   "outputs": [],
   "source": [
    "def get_trans_by_unortho_cell(position, unortho_cell_array):\n",
    "    \"\"\"\n",
    "    #这个函数只是根据非正交的cell进行了分子的拉伸, 来满足不规则的形状\n",
    "    we are not garantee such a function when you using it, actually, \n",
    "    it remain a unreversible shape change.\n",
    "\n",
    "    Args:\n",
    "        position (_type_): _description_\n",
    "        unortho_cell_array (_type_): _description_\n",
    "\n",
    "    Returns:\n",
    "        _type_: _description_\n",
    "    \"\"\"\n",
    "\n",
    "    cell = unortho_cell_array\n",
    "    _x = position[0]\n",
    "    _y = position[1]\n",
    "    _z = position[2]\n",
    "    \n",
    "    return [(cell[1][0]/cell[1][1])*_y + (cell[2][0]/cell[2][2])*_z, \n",
    "            (cell[0][1]/cell[0][0])*_x + (cell[2][1]/cell[2][2])*_z,\n",
    "            (cell[0][2]/cell[0][0])*_x + (cell[1][2]/cell[1][1])*_y]\n"
   ]
  }
 ],
 "metadata": {
  "language_info": {
   "name": "python"
  },
  "orig_nbformat": 4
 },
 "nbformat": 4,
 "nbformat_minor": 2
}
