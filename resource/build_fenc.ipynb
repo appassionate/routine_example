{
 "cells": [
  {
   "cell_type": "markdown",
   "id": "3168b048",
   "metadata": {},
   "source": [
    "fen4c building"
   ]
  },
  {
   "cell_type": "markdown",
   "id": "9e856aa5",
   "metadata": {},
   "source": [
    "ase 做一下石墨烯"
   ]
  },
  {
   "cell_type": "code",
   "execution_count": 161,
   "id": "7310e33d",
   "metadata": {},
   "outputs": [],
   "source": [
    "from ase.build import graphene\n",
    "from ase.visualize import view\n",
    "import ase.io as io\n",
    "\n",
    "from ase.neighborlist import neighbor_list"
   ]
  },
  {
   "cell_type": "code",
   "execution_count": 162,
   "id": "0f5fa749",
   "metadata": {},
   "outputs": [],
   "source": [
    "gra_0 = graphene(vacuum=10)*(4,4,1)"
   ]
  },
  {
   "cell_type": "code",
   "execution_count": 163,
   "id": "6cc1441f",
   "metadata": {},
   "outputs": [],
   "source": [
    "gra_1 = gra_0.copy()\n",
    "gra_1 = gra_1*(2,2,1)\n",
    "#gra_1.cell = [gra_1.cell[0][0], gra_1.cell[1][1], gra_1.cell[2][2]]\n",
    "#gra_1.wrap()"
   ]
  },
  {
   "cell_type": "code",
   "execution_count": 164,
   "id": "2f758754",
   "metadata": {},
   "outputs": [],
   "source": [
    "from ecflow_bandalign.tools.seek import search_coord_number\n",
    "import numpy as np\n"
   ]
  },
  {
   "cell_type": "code",
   "execution_count": 168,
   "id": "b766f378",
   "metadata": {},
   "outputs": [],
   "source": [
    "def generate_fen4(atoms, idx, mode=0):\n",
    "    \n",
    "    # 根据方向有3种取向 有三种mode 0,1,2\n",
    "    def get_near_three(struct, idx):\n",
    "        dists = struct.get_distances(idx,[i for i in range(len(struct))], mic=True)\n",
    "        idx1, idx2, idx3 = np.argsort(dists)[1:4]\n",
    "        return (idx1, idx2, idx3)\n",
    "    \n",
    "    nears_0 = get_near_three(atoms, idx)\n",
    "    chosen_idx = nears_0[mode]\n",
    "    nears_1 = get_near_three(atoms,chosen_idx)\n",
    "    #差一个排序过程\n",
    "    \n",
    "    N_idxs = set(nears_0+nears_1)\n",
    "    N_idxs.remove(chosen_idx)\n",
    "    N_idxs.remove(idx)\n",
    "    atoms = atoms.copy()\n",
    "    for _idx in list(N_idxs):\n",
    "        atoms[_idx].symbol = \"N\"\n",
    "    atoms[idx].symbol = \"H\"\n",
    "    atoms[chosen_idx].symbol = \"H\"\n",
    "    \n",
    "    return atoms"
   ]
  },
  {
   "cell_type": "code",
   "execution_count": 175,
   "id": "30f473e9",
   "metadata": {
    "scrolled": true
   },
   "outputs": [],
   "source": [
    "model = generate_fen4(gra_1, 114,0)\n",
    "model = generate_fen4(model, 28,0)"
   ]
  },
  {
   "cell_type": "code",
   "execution_count": 173,
   "id": "ec47a5d4",
   "metadata": {},
   "outputs": [],
   "source": [
    "io.write(\"trash.xyz\", model)"
   ]
  },
  {
   "cell_type": "code",
   "execution_count": 176,
   "id": "5ec88721",
   "metadata": {},
   "outputs": [
    {
     "data": {
      "application/vnd.jupyter.widget-view+json": {
       "model_id": "9ba6340de5da4ad9a7ef1702ddae7097",
       "version_major": 2,
       "version_minor": 0
      },
      "text/plain": [
       "HBox(children=(NGLWidget(), VBox(children=(Dropdown(description='Show', options=('All', 'N', 'H', 'C'), value=…"
      ]
     },
     "metadata": {},
     "output_type": "display_data"
    }
   ],
   "source": [
    "view(model, viewer=\"ngl\")"
   ]
  },
  {
   "cell_type": "code",
   "execution_count": null,
   "id": "55e841ff",
   "metadata": {},
   "outputs": [],
   "source": []
  }
 ],
 "metadata": {
  "kernelspec": {
   "display_name": "Python 3 (ipykernel)",
   "language": "python",
   "name": "python3"
  },
  "language_info": {
   "codemirror_mode": {
    "name": "ipython",
    "version": 3
   },
   "file_extension": ".py",
   "mimetype": "text/x-python",
   "name": "python",
   "nbconvert_exporter": "python",
   "pygments_lexer": "ipython3",
   "version": "3.8.13"
  }
 },
 "nbformat": 4,
 "nbformat_minor": 5
}
